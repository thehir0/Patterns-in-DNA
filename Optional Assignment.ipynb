{
 "cells": [
  {
   "cell_type": "markdown",
   "source": [
    "# STDSR - optional assignment\n",
    "> Dautov Almaz, B21-DS-02\n",
    "# Patterns in DNA\n"
   ],
   "metadata": {
    "collapsed": false
   }
  },
  {
   "cell_type": "code",
   "execution_count": 1,
   "outputs": [
    {
     "ename": "FileNotFoundError",
     "evalue": "[Errno 2] No such file or directory: 'hcmv.data.txt'",
     "output_type": "error",
     "traceback": [
      "\u001B[1;31m---------------------------------------------------------------------------\u001B[0m",
      "\u001B[1;31mFileNotFoundError\u001B[0m                         Traceback (most recent call last)",
      "\u001B[1;32m~\\AppData\\Local\\Temp\\ipykernel_6928\\1869828966.py\u001B[0m in \u001B[0;36m<module>\u001B[1;34m\u001B[0m\n\u001B[0;32m      5\u001B[0m \u001B[0mDNA_data\u001B[0m \u001B[1;33m=\u001B[0m \u001B[1;33m[\u001B[0m\u001B[1;33m]\u001B[0m\u001B[1;33m\u001B[0m\u001B[1;33m\u001B[0m\u001B[0m\n\u001B[0;32m      6\u001B[0m \u001B[1;33m\u001B[0m\u001B[0m\n\u001B[1;32m----> 7\u001B[1;33m \u001B[1;32mwith\u001B[0m \u001B[0mopen\u001B[0m\u001B[1;33m(\u001B[0m\u001B[1;34m'hcmv.data.txt'\u001B[0m\u001B[1;33m,\u001B[0m \u001B[1;34m'r'\u001B[0m\u001B[1;33m)\u001B[0m \u001B[1;32mas\u001B[0m \u001B[0mfile\u001B[0m\u001B[1;33m:\u001B[0m\u001B[1;33m\u001B[0m\u001B[1;33m\u001B[0m\u001B[0m\n\u001B[0m\u001B[0;32m      8\u001B[0m     \u001B[1;32mfor\u001B[0m \u001B[0mline\u001B[0m \u001B[1;32min\u001B[0m \u001B[0mfile\u001B[0m\u001B[1;33m:\u001B[0m\u001B[1;33m\u001B[0m\u001B[1;33m\u001B[0m\u001B[0m\n\u001B[0;32m      9\u001B[0m         \u001B[0mDNA_data\u001B[0m\u001B[1;33m.\u001B[0m\u001B[0mappend\u001B[0m\u001B[1;33m(\u001B[0m\u001B[0mint\u001B[0m\u001B[1;33m(\u001B[0m\u001B[0mline\u001B[0m\u001B[1;33m.\u001B[0m\u001B[0mrstrip\u001B[0m\u001B[1;33m(\u001B[0m\u001B[1;33m)\u001B[0m\u001B[1;33m)\u001B[0m\u001B[1;33m)\u001B[0m\u001B[1;33m\u001B[0m\u001B[1;33m\u001B[0m\u001B[0m\n",
      "\u001B[1;31mFileNotFoundError\u001B[0m: [Errno 2] No such file or directory: 'hcmv.data.txt'"
     ]
    }
   ],
   "source": [
    "import matplotlib.pyplot as plt\n",
    "import numpy as np\n",
    "import seaborn as sns\n",
    "\n",
    "DNA_data = []\n",
    "\n",
    "with open('hcmv.data.txt', 'r') as file:\n",
    "    for line in file:\n",
    "        DNA_data.append(int(line.rstrip()))\n",
    "\n",
    "# Define the length of the DNA sequence\n",
    "dna_length = 229354\n",
    "\n",
    "# Define the number of palindromes to simulate\n",
    "num_palindromes = 296\n",
    "\n",
    "# Generate a list of random palindrome locations\n",
    "size = 5\n",
    "random_uniform_data = []\n",
    "\n",
    "for i in range(size):\n",
    "    random_uniform_data.append(np.sort(np.random.randint(1, dna_length + 1, num_palindromes)))\n"
   ],
   "metadata": {
    "collapsed": false
   }
  },
  {
   "cell_type": "markdown",
   "source": [
    "### Random scatter.\n",
    "To investigate the potential presence of structure in the DNA data, we can begin by analyzing deviations from a uniform scatter of palindromes across the DNA. Generated five random uniformly distributed sequences are plotted alongside the DNA sequence. This allows to compare the distribution of the DNA sequence with that of the random uniform distribution and identify any patterns or trends that may indicate non-randomness."
   ],
   "metadata": {
    "collapsed": false
   }
  },
  {
   "cell_type": "code",
   "execution_count": null,
   "outputs": [],
   "source": [
    "plt.figure(figsize=(35,10))\n",
    "sns.scatterplot(x=DNA_data,y=np.zeros(num_palindromes), label='Data')\n",
    "for i in range(size):\n",
    "    sns.scatterplot(x= random_uniform_data[i],y= np.zeros(num_palindromes) + i + 1, label='Random uniform data ' + str(i + 1))\n",
    "plt.xlabel('DNA position')\n",
    "plt.title('Random scatter of DNA palindromes')\n",
    "plt.show()"
   ],
   "metadata": {
    "collapsed": false
   }
  },
  {
   "cell_type": "markdown",
   "source": [
    "However, no significant differences are observed, so the chi-squared test may be performed to provide a more formal statistical assessment of the randomness of the distribution.\n",
    "\n",
    "The null hypothesis is that the palindromes are uniformly scattered across the DNA sequence, and the alternative hypothesis is that the palindromes are not uniformly scattered across the DNA sequence, the level of significance is set to 0.05.\n"
   ],
   "metadata": {
    "collapsed": false
   }
  },
  {
   "cell_type": "code",
   "execution_count": null,
   "outputs": [],
   "source": [
    "from scipy.stats import chisquare\n",
    "\n",
    "# observed palindromes in DNA\n",
    "observed = DNA_data.copy()\n",
    "\n",
    "# expected palindromes assuming uniform random scatter\n",
    "total = sum(observed)\n",
    "num_intervals = len(observed)\n",
    "expected = total / num_intervals\n",
    "expected = np.full(num_intervals, expected)\n",
    "\n",
    "# perform chi-squared goodness-of-fit test\n",
    "_, p_value = chisquare(observed, expected)\n",
    "\n",
    "if p_value < 0.05:\n",
    "    print(\"Reject null hypothesis of uniform random scatter\")\n",
    "else:\n",
    "    print(\"Fail to reject null hypothesis of uniform random scatter\")"
   ],
   "metadata": {
    "collapsed": false
   }
  },
  {
   "cell_type": "markdown",
   "source": [
    "### Locations and spacings.\n",
    "The spacing between consecutive palindromes and sums of consecutive pairs, triplets, and so on were calculated for the CMV DNA. This analysis aimed to compare the observed results with what would be expected in a random scatter. Graphical techniques were also utilized to examine the locations of the palindromes in the DNA to identify any patterns or structures that might be present in the data."
   ],
   "metadata": {
    "collapsed": false
   }
  },
  {
   "cell_type": "code",
   "execution_count": null,
   "outputs": [],
   "source": [
    "def plot_spacing(DNA_data, random_uniform_data):\n",
    "\n",
    "    def calculate_spacings(data, size_of_group):\n",
    "        spacings = []\n",
    "        right = size_of_group - 1\n",
    "        left = right + 1\n",
    "\n",
    "        while left < len(data):\n",
    "            spacings.append(data[left] - data[right])\n",
    "            right += size_of_group\n",
    "            left = right + 1\n",
    "        return spacings\n",
    "\n",
    "\n",
    "    #number of groups\n",
    "    n = 6\n",
    "    groups = [i + 1 for i in range(n)]\n",
    "\n",
    "    rows, cols = 2, 3\n",
    "    fig, axs = plt.subplots(rows, cols, figsize=(30, 10))\n",
    "    fig.suptitle('Histograms of spacings between consecutive palindromes')\n",
    "\n",
    "    for i, group_size in enumerate(groups):\n",
    "        DNA_spacings = calculate_spacings(DNA_data, group_size)\n",
    "        random_spacings = calculate_spacings(random_uniform_data, group_size)\n",
    "\n",
    "        axs[i // cols, i % cols].hist([DNA_spacings, random_spacings], bins=50, label = ['DNA data', 'Random uniform data'], color= ['blue','orange'], alpha=0.7)\n",
    "\n",
    "        mean = np.mean(DNA_spacings)\n",
    "        axs[i // cols, i % cols].axvline(mean, color='black', linestyle='dashed', linewidth=1, label= 'mean')\n",
    "\n",
    "        axs[i // cols, i % cols].set_title('groups of size ' + str(group_size))\n",
    "        axs[i // cols, i % cols].set_xlabel('Spacing')\n",
    "        axs[i // cols, i % cols].set_ylabel('Frequency')\n",
    "        axs[i // cols, i % cols].legend()\n",
    "    plt.show()\n"
   ],
   "metadata": {
    "collapsed": false
   }
  },
  {
   "cell_type": "code",
   "execution_count": null,
   "outputs": [],
   "source": [
    "plot_spacing(DNA_data, random_uniform_data[0])"
   ],
   "metadata": {
    "collapsed": false
   }
  },
  {
   "cell_type": "markdown",
   "source": [
    "After comparing the spacing between consecutive palindromes in the CMV DNA sequence to what would be expected in a random scatter, no significant differences were observed. Therefore, the analysis proceeded to evaluate the number of palindromes in different intervals."
   ],
   "metadata": {
    "collapsed": false
   }
  },
  {
   "cell_type": "markdown",
   "source": [
    "### Counts.\n",
    "The investigation of the counts of palindromes in different regions of the DNA involved the use of graphical displays. The DNA was divided into non-overlapping regions of equal length to compare the observed counts of palindromes with the expected count from uniform random scatter."
   ],
   "metadata": {
    "collapsed": false
   }
  },
  {
   "cell_type": "code",
   "execution_count": null,
   "outputs": [],
   "source": [
    "interval_len = [500, 1000, 2500, 5000, 7500, 10000]\n",
    "\n",
    "rows, cols = 2, 3\n",
    "fig, axs = plt.subplots(rows, cols, figsize=(30, 10))\n",
    "fig.suptitle('Histograms of counts of palindromes in segments of different lengths')\n",
    "\n",
    "for i, interval in enumerate(interval_len):\n",
    "    axs[i // cols, i % cols].hist([DNA_data, random_uniform_data[0]], bins=range(0, dna_length, interval), label = ['DNA data', 'Random uniform data'], color= ['blue','orange'], alpha=0.7)\n",
    "    axs[i // cols, i % cols].set_title('segments of length ' + str(interval))\n",
    "    axs[i // cols, i % cols].set_xlabel('Intervals')\n",
    "    axs[i // cols, i % cols].set_ylabel('Count')\n",
    "    axs[i // cols, i % cols].legend()"
   ],
   "metadata": {
    "collapsed": false
   }
  },
  {
   "cell_type": "markdown",
   "source": [
    "### The biggets cluster.\n",
    "In the provided histograms, it is evident that in the DNA data a significant cluster that is clearly visible in the range of interval sizes between 2500 and 5000. To further investigate this cluster, a detailed examination of the interval sizes within this range is required. One way to evaluate this is by calculating the mean of these sizes, which will provide a more accurate representations of the cluster size."
   ],
   "metadata": {
    "collapsed": false
   }
  },
  {
   "cell_type": "code",
   "execution_count": null,
   "outputs": [],
   "source": [
    "interval = (2500 + 5000) // 2\n",
    "\n",
    "plt.figure(figsize=(45,10))\n",
    "plt.title('Histogram of DNA palindromes with interval size ' + str(interval))\n",
    "plt.hist([DNA_data, random_uniform_data[0]], bins=range(0, dna_length, interval), label = ['DNA data', 'Random uniform data'], color= ['blue','orange'], alpha=0.7)\n",
    "plt.xticks(range(0, dna_length, interval))\n",
    "plt.xlabel('Intervals')\n",
    "plt.ylabel('Frequency')\n",
    "plt.show()\n"
   ],
   "metadata": {
    "collapsed": false
   }
  },
  {
   "cell_type": "markdown",
   "source": [
    "From this histogram it is clear that the most significant cluster is observed in the interval ranging between 90000 and 93750. This finding suggests that the palindromes are concentrated on this range, indicating that it may be a potential origin of replication. Based on this observation, it is recommended to begin evaluating the origin of replication from this interval.\n"
   ],
   "metadata": {
    "collapsed": false
   }
  }
 ],
 "metadata": {
  "kernelspec": {
   "display_name": "Python 3",
   "language": "python",
   "name": "python3"
  },
  "language_info": {
   "codemirror_mode": {
    "name": "ipython",
    "version": 2
   },
   "file_extension": ".py",
   "mimetype": "text/x-python",
   "name": "python",
   "nbconvert_exporter": "python",
   "pygments_lexer": "ipython2",
   "version": "2.7.6"
  }
 },
 "nbformat": 4,
 "nbformat_minor": 0
}
